{
 "cells": [
  {
   "cell_type": "code",
   "execution_count": null,
   "metadata": {
    "vscode": {
     "languageId": "plaintext"
    }
   },
   "outputs": [],
   "source": [
    "import pandas as pd\n",
    "import numpy as np\n",
    "import matplotlib.pyplot as plt\n",
    "import seaborn as sns\n",
    "from sklearn.model_selection import train_test_split\n",
    "from sklearn.preprocessing import StandardScaler\n",
    "from sklearn.neighbors import KNeighborsClassifier\n",
    "from sklearn.metrics import confusion_matrix, accuracy_score, precision_score, recall_score\n",
    "\n",
    "\n",
    "data = pd.read_csv('diabetes.csv')\n",
    "print(data.isnull().sum())\n",
    "\n",
    "\n",
    "def boxplot(df) :\n",
    "    plt.figure(figsize=(10, 5))\n",
    "    for i in range(1,9):\n",
    "        sns.boxplot(df.iloc[: , i-1:i] , color=\"#99004C\")\n",
    "        plt.title(df.columns[i-1])\n",
    "        plt.show()\n",
    "\n",
    "boxplot(data)\n",
    "\n",
    "X = data.drop('Outcome', axis=1)  # Features\n",
    "y = data['Outcome']  # Target variable\n",
    "\n",
    "\n",
    "def outlier(df):\n",
    "    for col in df.columns:\n",
    "        q1 = df[col].quantile(0.25)\n",
    "        q3 = df[col].quantile(0.75)\n",
    "        IQR = q3 - q1\n",
    "        min_range = q1 - 1.5 * IQR\n",
    "        max_range = q3 + 1.5 * IQR\n",
    "\n",
    "        # Create a boolean mask for outliers\n",
    "        outliers_mask = (df[col] < min_range) | (df[col] > max_range)\n",
    "\n",
    "        # Replace outliers with the median\n",
    "        df.loc[outliers_mask, col] = int(np.median(df[col]))\n",
    "\n",
    "    return df\n",
    "\n",
    "outlier(X)\n",
    "boxplot(X)\n",
    "\n",
    "sns.heatmap(data.corr() , annot= True)\n",
    "\n",
    "X_train, X_test, y_train, y_test = train_test_split(X, y, test_size=0.3, random_state=42)\n",
    "scaler = StandardScaler()\n",
    "X_train = scaler.fit_transform(X_train)\n",
    "X_test = scaler.transform(X_test)\n",
    "\n",
    "\n",
    "k = int(input(\"Enter the value of k for K-Nearest Neighbors: \"))\n",
    "# Initialize KNN classifier with the user-defined k value\n",
    "knn = KNeighborsClassifier(n_neighbors=k)\n",
    "# Train the classifier\n",
    "knn.fit(X_train, y_train)\n",
    "y_pred = knn.predict(X_test)\n",
    "\n",
    "\n",
    "# Compute the confusion matrix\n",
    "conf_matrix = confusion_matrix(y_test, y_pred)\n",
    "accuracy = accuracy_score(y_test, y_pred)\n",
    "error_rate = 1 - accuracy\n",
    "precision = precision_score(y_test, y_pred)\n",
    "recall = recall_score(y_test, y_pred)\n",
    "\n",
    "print(f\"Confusion Matrix:\\n{conf_matrix}\")\n",
    "print(f\"Accuracy: {accuracy * 100:.2f}%\")\n",
    "print(f\"Error Rate: {error_rate * 100:.2f}%\")\n",
    "print(f\"Precision: {precision * 100:.2f}%\")\n",
    "print(f\"Recall: {recall * 100:.2f}%\")\n"
   ]
  },
  {
   "cell_type": "code",
   "execution_count": null,
   "metadata": {
    "vscode": {
     "languageId": "plaintext"
    }
   },
   "outputs": [],
   "source": []
  }
 ],
 "metadata": {
  "language_info": {
   "name": "python"
  }
 },
 "nbformat": 4,
 "nbformat_minor": 2
}
