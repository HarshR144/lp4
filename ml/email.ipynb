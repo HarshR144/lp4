{
 "cells": [
  {
   "cell_type": "code",
   "execution_count": null,
   "metadata": {
    "vscode": {
     "languageId": "plaintext"
    }
   },
   "outputs": [],
   "source": [
    "# Import necessary libraries\n",
    "import pandas as pd\n",
    "import numpy as np\n",
    "from sklearn.model_selection import train_test_split\n",
    "from sklearn.neighbors import KNeighborsClassifier\n",
    "from sklearn.svm import SVC\n",
    "from sklearn.metrics import accuracy_score, confusion_matrix, classification_report\n",
    "from sklearn.preprocessing import LabelEncoder\n",
    "\n",
    "# Load the dataset\n",
    "df = pd.read_csv('emails.csv')\n",
    "\n",
    "# 1. Preprocess the data\n",
    "# Drop unnecessary columns that are not useful for the model\n",
    "df = df.drop(['Email No.'], axis=1)\n",
    "\n",
    "# Check for missing values and drop if any\n",
    "df = df.dropna()\n",
    "\n",
    "# Convert any categorical data into numerical (if applicable)\n",
    "# In this case, 'spam' is already 0 and 1, so no need for encoding\n",
    "\n",
    "# Split the dataset into features (X) and target (y)\n",
    "X = X = df.drop(columns=[ 'Prediction'])\n",
    "y = df['Prediction']\n",
    "\n",
    "# 2. Split the data into training and testing sets\n",
    "X_train, X_test, y_train, y_test = train_test_split(X, y, test_size=0.2, random_state=42)\n",
    "\n",
    "# 3. K-Nearest Neighbors (KNN) Classifier\n",
    "# Ask the user to input the value of k\n",
    "k = int(input(\"Enter the value of k for K-Nearest Neighbors: \"))\n",
    "knn_model = KNeighborsClassifier(n_neighbors=k)\n",
    "knn_model.fit(X_train, y_train)\n",
    "y_pred_knn = knn_model.predict(X_test)\n",
    "\n",
    "# 4. Support Vector Machine (SVM) Classifier\n",
    "svm_model = SVC(kernel='linear')\n",
    "svm_model.fit(X_train, y_train)\n",
    "y_pred_svm = svm_model.predict(X_test)\n",
    "\n",
    "# 5. Evaluate the models\n",
    "def evaluate_model(y_true, y_pred, model_name):\n",
    "    print(f'{model_name} Performance:')\n",
    "    print(f'Accuracy: {accuracy_score(y_true, y_pred):.2f}')\n",
    "    print('Confusion Matrix:')\n",
    "    print(confusion_matrix(y_true, y_pred))\n",
    "    print('Classification Report:')\n",
    "    print(classification_report(y_true, y_pred))\n",
    "\n",
    "# Evaluation for KNN\n",
    "evaluate_model(y_test, y_pred_knn, 'K-Nearest Neighbors')\n",
    "\n",
    "# Evaluation for SVM\n",
    "evaluate_model(y_test, y_pred_svm, 'Support Vector Machine')"
   ]
  }
 ],
 "metadata": {
  "language_info": {
   "name": "python"
  }
 },
 "nbformat": 4,
 "nbformat_minor": 2
}
